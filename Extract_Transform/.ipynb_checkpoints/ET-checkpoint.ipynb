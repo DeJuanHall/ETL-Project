{
 "cells": [
  {
   "cell_type": "code",
   "execution_count": null,
   "metadata": {},
   "outputs": [],
   "source": [
    "# Import Dependencies and setup\n",
    "import pandas as pd\n",
    "import time\n",
    "import requests\n",
    "import json"
   ]
  },
  {
   "cell_type": "markdown",
   "metadata": {},
   "source": [
    "##### Extraction"
   ]
  },
  {
   "cell_type": "code",
   "execution_count": null,
   "metadata": {},
   "outputs": [],
   "source": [
    "# Extract CSV into pandas df\n",
    "df_ca = pd.read_csv('../resources/california-history.csv')\n",
    "df_ca.head()\n",
    "# df_ca.dtypes  -- used to check data type. Uncomment to check"
   ]
  },
  {
   "cell_type": "markdown",
   "metadata": {},
   "source": [
    "##### Generate List of Data Fields"
   ]
  },
  {
   "cell_type": "code",
   "execution_count": null,
   "metadata": {},
   "outputs": [],
   "source": [
    "# Create json url query and variable for data request\n",
    "base_url = 'https://api.covidtracking.com/v1/states/ny/daily.json'\n",
    "data_dict = requests.get(base_url).json()\n",
    "\n",
    "print(json.dumps(data_dict, indent=4, sort_keys=True))\n",
    "len(data_dict)"
   ]
  },
  {
   "cell_type": "code",
   "execution_count": null,
   "metadata": {},
   "outputs": [],
   "source": [
    "# Set up dictionary of variables where data from api calls will be stored\n",
    "ny_data = {'date':[], 'state':[], 'deaths':[], 'daily_hospitalization':[], \n",
    "           'icu_hospitalized':[], 'positiveCasesViral':[], 'positive_increase':[], \n",
    "           'test_results_total':[], 'test_increase':[]\n",
    "          }\n",
    "\n",
    "print('Retrieving NY Covid data')\n",
    "print('-' * 30)\n",
    "\n",
    "# forLoop to collect data and append to data_dict\n",
    "for data in data_dict:\n",
    "#     try:  -- not working; keep to use in future\n",
    "        ny_data['date'].append(data['date'])\n",
    "        ny_data['state'].append(data['state'])\n",
    "        ny_data['deaths'].append(data['deathIncrease'])\n",
    "        ny_data['daily_hospitalization'].append(data['hospitalizedIncrease'])\n",
    "        ny_data['icu_hospitalized'].append(data['inIcuCurrently'])\n",
    "        ny_data['positiveCasesViral'].append(data['positiveCasesViral'])\n",
    "        ny_data['positive_increase'].append(data['positiveIncrease'])\n",
    "        ny_data['test_results_total'].append(data['totalTestResults'])\n",
    "        ny_data['test_increase'].append(data['totalTestResultsIncrease'])\n",
    "\n",
    "        # Use timer to delay request to not exceed query limits.\n",
    "        time.sleep(.075)\n",
    "#     except:   -- not working; keep to use in future\n",
    "#         print(f'Incomplete record for {data}. Skipping {data}.')\n",
    "\n",
    "#         print(ny_data)  -- used to validate append to ny_data dictionary; uncomment to test"
   ]
  },
  {
   "cell_type": "code",
   "execution_count": null,
   "metadata": {},
   "outputs": [],
   "source": [
    "# Convert panda dictionary to dataframe and export to csv\n",
    "ny_df = pd.DataFrame.from_dict(ny_data)\n",
    "\n",
    "ny_df['date'] = pd.to_datetime(ny_df['date'], format='%Y%m%d')\n",
    "ny_df.to_csv('../resources/ny_data.csv')\n",
    "ny_df.head()\n",
    "# ny_df.dtypes  -- used to check data type. Uncomment to check"
   ]
  }
 ],
 "metadata": {
  "kernelspec": {
   "display_name": "Python 3",
   "language": "python",
   "name": "python3"
  },
  "language_info": {
   "codemirror_mode": {
    "name": "ipython",
    "version": 3
   },
   "file_extension": ".py",
   "mimetype": "text/x-python",
   "name": "python",
   "nbconvert_exporter": "python",
   "pygments_lexer": "ipython3",
   "version": "3.6.10"
  }
 },
 "nbformat": 4,
 "nbformat_minor": 4
}
