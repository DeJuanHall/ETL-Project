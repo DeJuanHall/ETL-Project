{
 "cells": [
  {
   "cell_type": "code",
   "execution_count": 1,
   "metadata": {},
   "outputs": [],
   "source": [
    "# Import Dependencies and setup\n",
    "import scrapy\n",
    "from scrapy import Spider\n",
    "from scrapy import Requests\n",
    "from scrapy.crawler import CrawlerProcess\n",
    "\n",
    "# import the link extractor\n",
    "\n",
    "from scrapy.linkextractors import LinkExtractor\n",
    "\n",
    "class W3S(scrapy.Spider):\n",
    "    name = 'w3spider'\n",
    "    custom_settings = {'FEEDS':{w3s.csv:{'format':'csv'}},\n",
    "                      'USER-A: Mozilla/5.0 (Windows NT 10.0; Win64; x64) AppleWebKit/537.36 (KHTML, like Gecko) Chrome/91.0.4472.77 Safari/537.36'\n",
    "                      \n",
    "                      }\n",
    "    start_urls = []"
   ]
  },
  {
   "cell_type": "code",
   "execution_count": 2,
   "metadata": {},
   "outputs": [],
   "source": [
    "# Make requests instance and pass into URL\n",
    "def getdata(url): \n",
    "    r = requests.get(url) \n",
    "    return r.text "
   ]
  },
  {
   "cell_type": "code",
   "execution_count": 3,
   "metadata": {},
   "outputs": [],
   "source": [
    "# Pass request into BeautifulSoup\n",
    "htmldata = getdata(\"https://www.syracuse.com/coronavirus-ny/\") \n",
    "soup = BeautifulSoup(htmldata, 'html.parser')\n",
    "for item in soup.find_all('img'):\n",
    "    print(item['src'])"
   ]
  }
 ],
 "metadata": {
  "kernelspec": {
   "display_name": "Python 3",
   "language": "python",
   "name": "python3"
  },
  "language_info": {
   "codemirror_mode": {
    "name": "ipython",
    "version": 3
   },
   "file_extension": ".py",
   "mimetype": "text/x-python",
   "name": "python",
   "nbconvert_exporter": "python",
   "pygments_lexer": "ipython3",
   "version": "3.8.5"
  }
 },
 "nbformat": 4,
 "nbformat_minor": 4
}
