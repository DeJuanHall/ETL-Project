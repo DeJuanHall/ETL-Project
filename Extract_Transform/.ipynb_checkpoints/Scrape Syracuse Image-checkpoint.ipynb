{
 "cells": [
  {
   "cell_type": "code",
   "execution_count": 1,
   "metadata": {},
   "outputs": [
    {
     "ename": "ModuleNotFoundError",
     "evalue": "No module named 'scrapy'",
     "output_type": "error",
     "traceback": [
      "\u001b[1;31m---------------------------------------------------------------------------\u001b[0m",
      "\u001b[1;31mModuleNotFoundError\u001b[0m                       Traceback (most recent call last)",
      "\u001b[1;32m<ipython-input-1-d3bfcf142bf0>\u001b[0m in \u001b[0;36m<module>\u001b[1;34m\u001b[0m\n\u001b[0;32m      1\u001b[0m \u001b[1;31m# Import Dependencies and setup\u001b[0m\u001b[1;33m\u001b[0m\u001b[1;33m\u001b[0m\u001b[1;33m\u001b[0m\u001b[0m\n\u001b[1;32m----> 2\u001b[1;33m \u001b[1;32mimport\u001b[0m \u001b[0mscrapy\u001b[0m\u001b[1;33m\u001b[0m\u001b[1;33m\u001b[0m\u001b[0m\n\u001b[0m\u001b[0;32m      3\u001b[0m \u001b[1;32mfrom\u001b[0m \u001b[0mscrapy\u001b[0m \u001b[1;32mimport\u001b[0m \u001b[0mSpider\u001b[0m\u001b[1;33m\u001b[0m\u001b[1;33m\u001b[0m\u001b[0m\n\u001b[0;32m      4\u001b[0m \u001b[1;32mfrom\u001b[0m \u001b[0mscrapy\u001b[0m \u001b[1;32mimport\u001b[0m \u001b[0mRequest\u001b[0m\u001b[1;33m\u001b[0m\u001b[1;33m\u001b[0m\u001b[0m\n\u001b[0;32m      5\u001b[0m \u001b[1;32mfrom\u001b[0m \u001b[0mscrapy\u001b[0m\u001b[1;33m.\u001b[0m\u001b[0mcrawler\u001b[0m \u001b[1;32mimport\u001b[0m \u001b[0mCrawlerProcess\u001b[0m\u001b[1;33m\u001b[0m\u001b[1;33m\u001b[0m\u001b[0m\n",
      "\u001b[1;31mModuleNotFoundError\u001b[0m: No module named 'scrapy'"
     ]
    }
   ],
   "source": [
    "# Import Dependencies and setup\n",
    "import scrapy\n",
    "from scrapy import Spider\n",
    "from scrapy import Request\n",
    "from scrapy.crawler import CrawlerProcess\n",
    "\n",
    "# import the link extractor\n",
    "from scrapy.linkextractors import LinkExtractor\n",
    "\n",
    "import os"
   ]
  },
  {
   "cell_type": "code",
   "execution_count": null,
   "metadata": {},
   "outputs": [],
   "source": [
    "# Defined class to scrape data from syracuse website\n",
    "class Syracusespider(Spider):\n",
    "    name = \"syracuse\"  # Identifies spider\n",
    "    custom_settings = {\n",
    "    'CONCURRENT_REQUESTS' : 2,\n",
    "    'AUTO_THROTTLE_ENABLED' : True\n",
    "    }\n",
    "    start_urls = [\"https://www.syracuse.com/coronavirus-ny/\"]\n",
    "\n",
    "    # extract link\n",
    "    def __init__ (self):\n",
    "        self.link_extractor = LinkExtractor(allow='https://datawrapper.dwcdn.net/pBpl6/1/')\n",
    "\n",
    "    # Parse function\n",
    "    def parse(self, response):\n",
    "        for link in self.link_extractor.extract_links(response):\n",
    "            \n",
    "            with open('syracuse.text', 'a+') as f:\n",
    "                f.write(f\"\\n{str(link)}\")\n",
    "            yield Request(link.url, callback=self.parse)\n",
    "\n",
    "if __name__ == \"__main__\":\n",
    "    process = CrawlerProcess()\n",
    "    process.crawl(Syracusespider)\n",
    "    process.start()"
   ]
  },
  {
   "cell_type": "code",
   "execution_count": null,
   "metadata": {},
   "outputs": [],
   "source": [
    "# class Syracusespider(Spider):\n",
    "#     name = \"syracuse\"\n",
    "#     start_urls = [\"https://www.syracuse.com/coronavirus-ny/\"\n",
    "\n",
    "#     try :\n",
    "#         os.remove('syracuse.txt')\n",
    "#     except OSError:\n",
    "#         pass\n",
    "#     custom_settings = {\n",
    "#         'CONCURRENT_REQUESTS' : 2,\n",
    "#         'AUTO_THROTTLE_ENABLED' : True\n",
    "#     }\n",
    "\n",
    "#     def __init__ (self):\n",
    "#         self.link_extractor = LinkExtractor(allow='https://datawrapper.dwcdn.net/pBpl6/1/')\n",
    "\n",
    "#     def parse(self,response):\n",
    "#         for link in self.link_extractor.extract_links(response):\n",
    "#             with open('syracuse.text', 'a+') as f:\n",
    "#                 f.write(f\"\\n{str(link)}\")\n",
    "\n",
    "#             yield response.follow(url=link, callback=self.parse)\n",
    "\n",
    "# if __name__ == \"__main__\":\n",
    "#     process = CrawlerProcess()\n",
    "#     process.crawl(Syracusespider)\n",
    "#     process.start()"
   ]
  },
  {
   "cell_type": "code",
   "execution_count": null,
   "metadata": {},
   "outputs": [],
   "source": [
    "# # Make requests instance and pass into URL\n",
    "# def getdata(url): \n",
    "#     r = requests.get(url) \n",
    "#     return r.text "
   ]
  },
  {
   "cell_type": "code",
   "execution_count": null,
   "metadata": {},
   "outputs": [],
   "source": [
    "# # Pass request into BeautifulSoup\n",
    "# htmldata = getdata(\"https://www.syracuse.com/coronavirus-ny/\") \n",
    "# soup = BeautifulSoup(htmldata, 'html.parser')\n",
    "# for item in soup.find_all('img'):\n",
    "#     print(item['src'])"
   ]
  }
 ],
 "metadata": {
  "kernelspec": {
   "display_name": "Python 3",
   "language": "python",
   "name": "python3"
  },
  "language_info": {
   "codemirror_mode": {
    "name": "ipython",
    "version": 3
   },
   "file_extension": ".py",
   "mimetype": "text/x-python",
   "name": "python",
   "nbconvert_exporter": "python",
   "pygments_lexer": "ipython3",
   "version": "3.8.5"
  },
  "metadata": {
   "interpreter": {
    "hash": "a37ba6fc2ee8e346d87616d631b7bff4e1db6b3874fa9a168fd9459028e1b7df"
   }
  }
 },
 "nbformat": 4,
 "nbformat_minor": 4
}
