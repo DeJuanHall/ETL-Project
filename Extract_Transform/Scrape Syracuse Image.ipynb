{
 "cells": [
  {
   "cell_type": "code",
   "execution_count": 1,
   "metadata": {},
   "outputs": [
    {
     "output_type": "stream",
     "name": "stdout",
     "text": [
      "tps://datawrapper.dwcdn.net/9TbbF/2/\ntps://datawrapper.dwcdn.net/ijEiy/2/\ntps://datawrapper.dwcdn.net/A8g9w/2/\ntps://datawrapper.dwcdn.net/Scq2a/1/\ntps://datawrapper.dwcdn.net/pBpl6/1/\nsyracusecom.maps.arcgis.com/apps/Embed/index.html?webmap=4ee7a49ca08e42a780d6f8026fca1e5c&extent=-80.0507,41.3424,-71.9372,44.456&home=true&zoom=true&previewImage=false&scale=false&disable_scroll=true&theme=light\ntps://datawrapper.dwcdn.net/eiIvo/10/\nsyracusecom.maps.arcgis.com/apps/Embed/index.html?webmap=265a07eaa42d41c2a901a2a213aa5f36&extent=-80.049,41.3394,-71.9356,44.4531&home=true&zoom=true&previewImage=false&scale=false&disable_scroll=true&theme=light\ntps://datawrapper.dwcdn.net/BBXOO/10/\nsyracusecom.maps.arcgis.com/apps/Embed/index.html?webmap=594b516c770d4fc39870a38fb2eaea73&extent=-80.0549,41.3393,-71.9415,44.453&home=true&zoom=true&previewImage=false&scale=false&disable_scroll=true&theme=light\ntps://datawrapper.dwcdn.net/D8hmk/17/\n"
     ]
    }
   ],
   "source": [
    "# Import Dependencies and setup\n",
    "# import pandas as pd\n",
    "from urllib.request import urlopen\n",
    "from bs4 import BeautifulSoup\n",
    "\n",
    "\n",
    "path='https://www.syracuse.com/coronavirus-ny/'\n",
    "f = urlopen(path)\n",
    "html = str(f.read())\n",
    "soup = BeautifulSoup(html, 'html.parser')\n",
    "txt = soup.find_all('iframe')\n",
    "\n",
    "for element in txt:\n",
    "    print(element.attrs[\"src\"][2:])"
   ]
  },
  {
   "cell_type": "code",
   "execution_count": null,
   "metadata": {},
   "outputs": [],
   "source": [
    "# Next try xpath"
   ]
  },
  {
   "cell_type": "code",
   "execution_count": 1,
   "metadata": {},
   "outputs": [],
   "source": [
    "# # Import Dependencies and setup\n",
    "# import scrapy\n",
    "# from scrapy import Spider\n",
    "# from scrapy import Request\n",
    "# from scrapy.crawler import CrawlerProcess\n",
    "\n",
    "# # import the link extractor\n",
    "# from scrapy.linkextractors import LinkExtractor\n",
    "\n",
    "# import os"
   ]
  },
  {
   "cell_type": "code",
   "execution_count": 2,
   "metadata": {},
   "outputs": [
    {
     "output_type": "stream",
     "name": "stderr",
     "text": [
      "2021-06-06 02:16:45 [scrapy.utils.log] INFO: Scrapy 2.5.0 started (bot: scrapybot)\n",
      "2021-06-06 02:16:45 [scrapy.utils.log] INFO: Versions: lxml 4.6.3.0, libxml2 2.9.12, cssselect 1.1.0, parsel 1.6.0, w3lib 1.22.0, Twisted 21.2.0, Python 3.6.10 |Anaconda, Inc.| (default, May  7 2020, 19:46:08) [MSC v.1916 64 bit (AMD64)], pyOpenSSL 20.0.1 (OpenSSL 1.1.1k  25 Mar 2021), cryptography 3.4.7, Platform Windows-10-10.0.19041-SP0\n",
      "2021-06-06 02:16:45 [scrapy.utils.log] DEBUG: Using reactor: twisted.internet.selectreactor.SelectReactor\n",
      "2021-06-06 02:16:45 [scrapy.crawler] INFO: Overridden settings:\n",
      "{'CONCURRENT_REQUESTS': 2}\n",
      "2021-06-06 02:16:45 [scrapy.extensions.telnet] INFO: Telnet Password: 79ee8e8ae8604fdc\n",
      "2021-06-06 02:16:45 [scrapy.middleware] INFO: Enabled extensions:\n",
      "['scrapy.extensions.corestats.CoreStats',\n",
      " 'scrapy.extensions.telnet.TelnetConsole',\n",
      " 'scrapy.extensions.logstats.LogStats']\n",
      "2021-06-06 02:16:46 [scrapy.middleware] INFO: Enabled downloader middlewares:\n",
      "['scrapy.downloadermiddlewares.httpauth.HttpAuthMiddleware',\n",
      " 'scrapy.downloadermiddlewares.downloadtimeout.DownloadTimeoutMiddleware',\n",
      " 'scrapy.downloadermiddlewares.defaultheaders.DefaultHeadersMiddleware',\n",
      " 'scrapy.downloadermiddlewares.useragent.UserAgentMiddleware',\n",
      " 'scrapy.downloadermiddlewares.retry.RetryMiddleware',\n",
      " 'scrapy.downloadermiddlewares.redirect.MetaRefreshMiddleware',\n",
      " 'scrapy.downloadermiddlewares.httpcompression.HttpCompressionMiddleware',\n",
      " 'scrapy.downloadermiddlewares.redirect.RedirectMiddleware',\n",
      " 'scrapy.downloadermiddlewares.cookies.CookiesMiddleware',\n",
      " 'scrapy.downloadermiddlewares.httpproxy.HttpProxyMiddleware',\n",
      " 'scrapy.downloadermiddlewares.stats.DownloaderStats']\n",
      "2021-06-06 02:16:46 [scrapy.middleware] INFO: Enabled spider middlewares:\n",
      "['scrapy.spidermiddlewares.httperror.HttpErrorMiddleware',\n",
      " 'scrapy.spidermiddlewares.offsite.OffsiteMiddleware',\n",
      " 'scrapy.spidermiddlewares.referer.RefererMiddleware',\n",
      " 'scrapy.spidermiddlewares.urllength.UrlLengthMiddleware',\n",
      " 'scrapy.spidermiddlewares.depth.DepthMiddleware']\n",
      "2021-06-06 02:16:46 [scrapy.middleware] INFO: Enabled item pipelines:\n",
      "[]\n",
      "2021-06-06 02:16:46 [scrapy.core.engine] INFO: Spider opened\n",
      "2021-06-06 02:16:46 [scrapy.extensions.logstats] INFO: Crawled 0 pages (at 0 pages/min), scraped 0 items (at 0 items/min)\n",
      "2021-06-06 02:16:46 [scrapy.extensions.telnet] INFO: Telnet console listening on 127.0.0.1:6023\n",
      "2021-06-06 02:16:46 [scrapy.core.engine] DEBUG: Crawled (200) <GET https://www.syracuse.com/coronavirus-ny/> (referer: None)\n",
      "2021-06-06 02:16:46 [scrapy.core.engine] INFO: Closing spider (finished)\n",
      "2021-06-06 02:16:46 [scrapy.statscollectors] INFO: Dumping Scrapy stats:\n",
      "{'downloader/request_bytes': 231,\n",
      " 'downloader/request_count': 1,\n",
      " 'downloader/request_method_count/GET': 1,\n",
      " 'downloader/response_bytes': 24624,\n",
      " 'downloader/response_count': 1,\n",
      " 'downloader/response_status_count/200': 1,\n",
      " 'elapsed_time_seconds': 0.601181,\n",
      " 'finish_reason': 'finished',\n",
      " 'finish_time': datetime.datetime(2021, 6, 6, 9, 16, 46, 700726),\n",
      " 'httpcompression/response_bytes': 138347,\n",
      " 'httpcompression/response_count': 1,\n",
      " 'log_count/DEBUG': 1,\n",
      " 'log_count/INFO': 10,\n",
      " 'response_received_count': 1,\n",
      " 'scheduler/dequeued': 1,\n",
      " 'scheduler/dequeued/memory': 1,\n",
      " 'scheduler/enqueued': 1,\n",
      " 'scheduler/enqueued/memory': 1,\n",
      " 'start_time': datetime.datetime(2021, 6, 6, 9, 16, 46, 99545)}\n",
      "2021-06-06 02:16:46 [scrapy.core.engine] INFO: Spider closed (finished)\n"
     ]
    }
   ],
   "source": [
    "# # Defined class to scrape data from syracuse website\n",
    "# class Syracusespider(Spider):\n",
    "#     name = \"syracuse\"  # Identifies spider\n",
    "\n",
    "#     custom_settings = {\n",
    "#     'CONCURRENT_REQUESTS' : 2,\n",
    "#     'AUTO_THROTTLE_ENABLED' : True\n",
    "#     }\n",
    "    \n",
    "#     start_urls = [\"https://www.syracuse.com/coronavirus-ny/\"]\n",
    "\n",
    "#     # extract link\n",
    "#     def __init__ (self):\n",
    "#         self.link_extractor = LinkExtractor(allow='https://datawrapper.dwcdn.net/pBpl6/1/')\n",
    "\n",
    "#     # Parse function\n",
    "#     def parse(self, response):\n",
    "#         for link in self.link_extractor.extract_links(response):\n",
    "            \n",
    "#             with open('syracuse.text', 'a+') as f:\n",
    "#                 f.write(f\"\\n{str(link)}\")\n",
    "#             yield Request(link.url, callback=self.parse)\n",
    "\n",
    "# if __name__ == \"__main__\":\n",
    "#     process = CrawlerProcess()\n",
    "#     process.crawl(Syracusespider)\n",
    "#     process.start()"
   ]
  },
  {
   "cell_type": "code",
   "execution_count": null,
   "metadata": {},
   "outputs": [],
   "source": []
  }
 ],
 "metadata": {
  "kernelspec": {
   "name": "python3610jvsc74a57bd0a37ba6fc2ee8e346d87616d631b7bff4e1db6b3874fa9a168fd9459028e1b7df",
   "display_name": "Python 3.6.10 64-bit ('PythonData': conda)"
  },
  "language_info": {
   "codemirror_mode": {
    "name": "ipython",
    "version": 3
   },
   "file_extension": ".py",
   "mimetype": "text/x-python",
   "name": "python",
   "nbconvert_exporter": "python",
   "pygments_lexer": "ipython3",
   "version": "3.6.10"
  },
  "metadata": {
   "interpreter": {
    "hash": "a37ba6fc2ee8e346d87616d631b7bff4e1db6b3874fa9a168fd9459028e1b7df"
   }
  }
 },
 "nbformat": 4,
 "nbformat_minor": 4
}