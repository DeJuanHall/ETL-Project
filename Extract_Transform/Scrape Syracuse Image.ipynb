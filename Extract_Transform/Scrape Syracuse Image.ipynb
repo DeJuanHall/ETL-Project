{
 "cells": [
  {
   "cell_type": "code",
   "execution_count": 1,
   "metadata": {},
   "outputs": [],
   "source": [
    "# Import Dependencies and setup\n",
    "import scrapy\n",
    "from scrapy import Spider\n",
    "from scrapy import Request\n",
    "from scrapy.crawler import CrawlerProcess\n",
    "\n",
    "# import the link extractor\n",
    "from scrapy.linkextractors import LinkExtractor\n",
    "\n",
    "import os\n",
    "   \n",
    "# 'USER-A: Mozilla/5.0 (Windows NT 10.0; Win64; x64) AppleWebKit/537.36 (KHTML, like Gecko) Chrome/91.0.4472.77 Safari/537.36'"
   ]
  },
  {
   "cell_type": "code",
   "execution_count": 2,
   "metadata": {},
   "outputs": [
    {
     "name": "stderr",
     "output_type": "stream",
     "text": [
      "2021-06-06 01:23:36 [scrapy.utils.log] INFO: Scrapy 2.5.0 started (bot: scrapybot)\n",
      "2021-06-06 01:23:36 [scrapy.utils.log] INFO: Versions: lxml 4.6.3.0, libxml2 2.9.12, cssselect 1.1.0, parsel 1.6.0, w3lib 1.22.0, Twisted 21.2.0, Python 3.6.10 |Anaconda, Inc.| (default, May  7 2020, 19:46:08) [MSC v.1916 64 bit (AMD64)], pyOpenSSL 20.0.1 (OpenSSL 1.1.1k  25 Mar 2021), cryptography 3.4.7, Platform Windows-10-10.0.19041-SP0\n",
      "2021-06-06 01:23:36 [scrapy.utils.log] DEBUG: Using reactor: twisted.internet.selectreactor.SelectReactor\n",
      "2021-06-06 01:23:36 [scrapy.crawler] INFO: Overridden settings:\n",
      "{}\n",
      "2021-06-06 01:23:36 [scrapy.extensions.telnet] INFO: Telnet Password: 8ac017e58d38f87c\n",
      "2021-06-06 01:23:36 [scrapy.middleware] INFO: Enabled extensions:\n",
      "['scrapy.extensions.corestats.CoreStats',\n",
      " 'scrapy.extensions.telnet.TelnetConsole',\n",
      " 'scrapy.extensions.logstats.LogStats']\n",
      "2021-06-06 01:23:37 [scrapy.middleware] INFO: Enabled downloader middlewares:\n",
      "['scrapy.downloadermiddlewares.httpauth.HttpAuthMiddleware',\n",
      " 'scrapy.downloadermiddlewares.downloadtimeout.DownloadTimeoutMiddleware',\n",
      " 'scrapy.downloadermiddlewares.defaultheaders.DefaultHeadersMiddleware',\n",
      " 'scrapy.downloadermiddlewares.useragent.UserAgentMiddleware',\n",
      " 'scrapy.downloadermiddlewares.retry.RetryMiddleware',\n",
      " 'scrapy.downloadermiddlewares.redirect.MetaRefreshMiddleware',\n",
      " 'scrapy.downloadermiddlewares.httpcompression.HttpCompressionMiddleware',\n",
      " 'scrapy.downloadermiddlewares.redirect.RedirectMiddleware',\n",
      " 'scrapy.downloadermiddlewares.cookies.CookiesMiddleware',\n",
      " 'scrapy.downloadermiddlewares.httpproxy.HttpProxyMiddleware',\n",
      " 'scrapy.downloadermiddlewares.stats.DownloaderStats']\n",
      "2021-06-06 01:23:37 [scrapy.middleware] INFO: Enabled spider middlewares:\n",
      "['scrapy.spidermiddlewares.httperror.HttpErrorMiddleware',\n",
      " 'scrapy.spidermiddlewares.offsite.OffsiteMiddleware',\n",
      " 'scrapy.spidermiddlewares.referer.RefererMiddleware',\n",
      " 'scrapy.spidermiddlewares.urllength.UrlLengthMiddleware',\n",
      " 'scrapy.spidermiddlewares.depth.DepthMiddleware']\n",
      "2021-06-06 01:23:37 [scrapy.middleware] INFO: Enabled item pipelines:\n",
      "[]\n",
      "2021-06-06 01:23:37 [scrapy.core.engine] INFO: Spider opened\n",
      "2021-06-06 01:23:37 [scrapy.extensions.logstats] INFO: Crawled 0 pages (at 0 pages/min), scraped 0 items (at 0 items/min)\n",
      "2021-06-06 01:23:37 [scrapy.extensions.telnet] INFO: Telnet console listening on 127.0.0.1:6023\n",
      "2021-06-06 01:23:37 [scrapy.core.engine] DEBUG: Crawled (200) <GET https://www.syracuse.com/coronavirus-ny/> (referer: None)\n",
      "2021-06-06 01:23:37 [scrapy.core.engine] INFO: Closing spider (finished)\n",
      "2021-06-06 01:23:37 [scrapy.statscollectors] INFO: Dumping Scrapy stats:\n",
      "{'downloader/request_bytes': 231,\n",
      " 'downloader/request_count': 1,\n",
      " 'downloader/request_method_count/GET': 1,\n",
      " 'downloader/response_bytes': 25003,\n",
      " 'downloader/response_count': 1,\n",
      " 'downloader/response_status_count/200': 1,\n",
      " 'elapsed_time_seconds': 0.512228,\n",
      " 'finish_reason': 'finished',\n",
      " 'finish_time': datetime.datetime(2021, 6, 6, 8, 23, 37, 569136),\n",
      " 'httpcompression/response_bytes': 138346,\n",
      " 'httpcompression/response_count': 1,\n",
      " 'log_count/DEBUG': 1,\n",
      " 'log_count/INFO': 10,\n",
      " 'response_received_count': 1,\n",
      " 'scheduler/dequeued': 1,\n",
      " 'scheduler/dequeued/memory': 1,\n",
      " 'scheduler/enqueued': 1,\n",
      " 'scheduler/enqueued/memory': 1,\n",
      " 'start_time': datetime.datetime(2021, 6, 6, 8, 23, 37, 56908)}\n",
      "2021-06-06 01:23:37 [scrapy.core.engine] INFO: Spider closed (finished)\n"
     ]
    }
   ],
   "source": [
    "class Syracusespider(Spider):\n",
    "    name = \"syracuse\"\n",
    "    start_urls = [\"https://www.syracuse.com/coronavirus-ny/\"]\n",
    "\n",
    "    # extract link from\n",
    "    def __init__ (self):\n",
    "        self.link_extractor = LinkExtractor(allow='https://datawrapper.dwcdn.net/pBpl6/1/')\n",
    "\n",
    "    def parse(self, response):\n",
    "        for link in self.link_extractor.extract_links(response):\n",
    "            with open('syracuse.text', 'a+') as f:\n",
    "                f.write(f\"\\n{str(link)}\")\n",
    "            yield Request(link.url, callback=self.parse)\n",
    "\n",
    "if __name__ == \"__main__\":\n",
    "    process = CrawlerProcess()\n",
    "    process.crawl(Syracusespider)\n",
    "    process.start()"
   ]
  },
  {
   "cell_type": "code",
   "execution_count": null,
   "metadata": {},
   "outputs": [],
   "source": [
    "# class Syracusespider(Spider):\n",
    "#     name = \"syracuse\"\n",
    "#     start_urls = [\"https://www.syracuse.com/coronavirus-ny/\"\n",
    "\n",
    "#     try :\n",
    "#         os.remove('syracuse.txt')\n",
    "#     except OSError:\n",
    "#         pass\n",
    "#     custom_settings = {\n",
    "#         'CONCURRENT_REQUESTS' : 2,\n",
    "#         'AUTO_THROTTLE_ENABLED' : True\n",
    "#     }\n",
    "\n",
    "#     def __init__ (self):\n",
    "#         self.link_extractor = LinkExtractor(allow='https://datawrapper.dwcdn.net/pBpl6/1/')\n",
    "\n",
    "#     def parse(self,response):\n",
    "#         for link in self.link_extractor.extract_links(response):\n",
    "#             with open('syracuse.text', 'a+') as f:\n",
    "#                 f.write(f\"\\n{str(link)}\")\n",
    "\n",
    "#             yield response.follow(url=link, callback=self.parse)\n",
    "\n",
    "# if __name__ == \"__main__\":\n",
    "#     process = CrawlerProcess()\n",
    "#     process.crawl(Syracusespider)\n",
    "#     process.start()"
   ]
  },
  {
   "cell_type": "code",
   "execution_count": 2,
   "metadata": {},
   "outputs": [],
   "source": [
    "# # Make requests instance and pass into URL\n",
    "# def getdata(url): \n",
    "#     r = requests.get(url) \n",
    "#     return r.text "
   ]
  },
  {
   "cell_type": "code",
   "execution_count": 3,
   "metadata": {},
   "outputs": [],
   "source": [
    "# # Pass request into BeautifulSoup\n",
    "# htmldata = getdata(\"https://www.syracuse.com/coronavirus-ny/\") \n",
    "# soup = BeautifulSoup(htmldata, 'html.parser')\n",
    "# for item in soup.find_all('img'):\n",
    "#     print(item['src'])"
   ]
  }
 ],
 "metadata": {
  "kernelspec": {
   "display_name": "Python 3",
   "language": "python",
   "name": "python3"
  },
  "language_info": {
   "codemirror_mode": {
    "name": "ipython",
    "version": 3
   },
   "file_extension": ".py",
   "mimetype": "text/x-python",
   "name": "python",
   "nbconvert_exporter": "python",
   "pygments_lexer": "ipython3",
   "version": "3.8.5"
  },
  "metadata": {
   "interpreter": {
    "hash": "a37ba6fc2ee8e346d87616d631b7bff4e1db6b3874fa9a168fd9459028e1b7df"
   }
  }
 },
 "nbformat": 4,
 "nbformat_minor": 4
}
