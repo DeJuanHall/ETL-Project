{
 "cells": [
  {
   "cell_type": "code",
   "execution_count": 1,
   "metadata": {},
   "outputs": [
    {
     "name": "stdout",
     "output_type": "stream",
     "text": [
      "https://datawrapper.dwcdn.net/9TbbF/2/\n",
      "https://datawrapper.dwcdn.net/ijEiy/2/\n",
      "https://datawrapper.dwcdn.net/A8g9w/2/\n",
      "https://datawrapper.dwcdn.net/Scq2a/1/\n",
      "https://datawrapper.dwcdn.net/pBpl6/1/\n",
      "//syracusecom.maps.arcgis.com/apps/Embed/index.html?webmap=4ee7a49ca08e42a780d6f8026fca1e5c&extent=-80.0507,41.3424,-71.9372,44.456&home=true&zoom=true&previewImage=false&scale=false&disable_scroll=true&theme=light\n",
      "https://datawrapper.dwcdn.net/eiIvo/10/\n",
      "//syracusecom.maps.arcgis.com/apps/Embed/index.html?webmap=265a07eaa42d41c2a901a2a213aa5f36&extent=-80.049,41.3394,-71.9356,44.4531&home=true&zoom=true&previewImage=false&scale=false&disable_scroll=true&theme=light\n",
      "https://datawrapper.dwcdn.net/BBXOO/10/\n",
      "//syracusecom.maps.arcgis.com/apps/Embed/index.html?webmap=594b516c770d4fc39870a38fb2eaea73&extent=-80.0549,41.3393,-71.9415,44.453&home=true&zoom=true&previewImage=false&scale=false&disable_scroll=true&theme=light\n",
      "https://datawrapper.dwcdn.net/D8hmk/17/\n"
     ]
    }
   ],
   "source": [
    "# Import Dependencies and setup\n",
    "from urllib.request import urlopen\n",
    "from bs4 import BeautifulSoup\n",
    "\n",
    "path='https://www.syracuse.com/coronavirus-ny/'\n",
    "f = urlopen(path)\n",
    "html = str(f.read())\n",
    "soup = BeautifulSoup(html, 'html.parser')\n",
    "txt = soup.find_all('iframe')\n",
    "\n",
    "for element in txt:\n",
    "    with open('image_url', 'a+')\n",
    "    \n",
    "    print(element.attrs[\"src\"])"
   ]
  }
 ],
 "metadata": {
  "kernelspec": {
   "display_name": "Python 3",
   "language": "python",
   "name": "python3"
  },
  "language_info": {
   "codemirror_mode": {
    "name": "ipython",
    "version": 3
   },
   "file_extension": ".py",
   "mimetype": "text/x-python",
   "name": "python",
   "nbconvert_exporter": "python",
   "pygments_lexer": "ipython3",
   "version": "3.8.5"
  },
  "metadata": {
   "interpreter": {
    "hash": "a37ba6fc2ee8e346d87616d631b7bff4e1db6b3874fa9a168fd9459028e1b7df"
   }
  }
 },
 "nbformat": 4,
 "nbformat_minor": 4
}
